{
  "nbformat": 4,
  "nbformat_minor": 0,
  "metadata": {
    "colab": {
      "provenance": []
    },
    "kernelspec": {
      "name": "python3",
      "display_name": "Python 3"
    },
    "language_info": {
      "name": "python"
    }
  },
  "cells": [
    {
      "cell_type": "code",
      "execution_count": 6,
      "metadata": {
        "colab": {
          "base_uri": "https://localhost:8080/"
        },
        "id": "w440ocsFd-m8",
        "outputId": "b53d0d0b-7e4e-422b-f2af-b24679793e88"
      },
      "outputs": [
        {
          "output_type": "stream",
          "name": "stdout",
          "text": [
            "Test Sample s belongs to Cluster :  1\n",
            "Trained weights :  [[0.6000000000000001, 0.6, 0.5, 0.9], [0.3333984375, 0.4, 0.7, 0.3]]\n"
          ]
        }
      ],
      "source": [
        "import math\n",
        " \n",
        "class SOM:\n",
        "    def winner(self, weights, sample):\n",
        "        D0 = 0\n",
        "        D1 = 0 \n",
        "        for i in range(len(sample)): \n",
        "            D0 = D0 + math.pow((sample[i] - weights[0][i]), 2)\n",
        "            D1 = D1 + math.pow((sample[i] - weights[1][i]), 2) \n",
        "            if D0 > D1:\n",
        "                return 0\n",
        "            else:\n",
        "                return 1\n",
        "    def update(self, weights, sample, J, alpha):\n",
        "         for i in range(len(weights)):\n",
        "            weights[J][i] = weights[J][i] + alpha * (sample[i] - weights[J][i])\n",
        "            return weights\n",
        "def main():\n",
        "    T = [[1, 1, 0, 0], [0, 0, 0, 1], [1, 0, 0, 0], [0, 0, 1, 1]]\n",
        "    m = len(T)\n",
        "    weights = [[0.2, 0.6, 0.5, 0.9], [0.8, 0.4, 0.7, 0.3]]\n",
        "    ob = SOM()\n",
        "    epochs = 3\n",
        "    alpha = 0.5\n",
        "    for i in range(epochs):\n",
        "        for j in range(m):\n",
        "            sample = T[j]\n",
        "            J = ob.winner(weights, sample)\n",
        "            weights = ob.update(weights, sample, J, alpha)\n",
        "    s = [1, 1, 0, 1]\n",
        "    J = ob.winner(weights, s)\n",
        "    print(\"Test Sample s belongs to Cluster : \", J)\n",
        "    print(\"Trained weights : \", weights)\n",
        "if __name__ == \"__main__\":\n",
        "    main()"
      ]
    }
  ]
}