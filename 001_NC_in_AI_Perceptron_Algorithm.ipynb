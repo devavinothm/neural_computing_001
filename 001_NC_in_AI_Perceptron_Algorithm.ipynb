{
  "nbformat": 4,
  "nbformat_minor": 0,
  "metadata": {
    "colab": {
      "provenance": [],
      "collapsed_sections": []
    },
    "kernelspec": {
      "name": "python3",
      "display_name": "Python 3"
    },
    "language_info": {
      "name": "python"
    }
  },
  "cells": [
    {
      "cell_type": "code",
      "execution_count": 7,
      "metadata": {
        "colab": {
          "base_uri": "https://localhost:8080/"
        },
        "id": "jVQvFe7cVPd8",
        "outputId": "7c211a63-4e1f-43ec-a5c8-9e34b299605e"
      },
      "outputs": [
        {
          "output_type": "stream",
          "name": "stdout",
          "text": [
            "NOT of 0 is  1\n",
            "NOT of 1 is  0\n",
            "\n",
            "\n",
            "AND of 0,0 is  0\n",
            "AND of 0,1 is  0\n",
            "AND of 1,0 is  0\n",
            "AND of 1,1 is  1\n",
            "\n",
            "\n",
            "OR of 0,0 is  0\n",
            "OR of 0,1 is  1\n",
            "OR of 1,0 is  1\n",
            "OR of 1,1 is  1\n",
            "\n",
            "\n",
            "Ex-OR of 0,0 is  0\n",
            "Ex-OR of 0,1 is  1\n",
            "Ex-OR of 1,0 is  1\n",
            "Ex-OR of 1,1 is  0\n"
          ]
        }
      ],
      "source": [
        "import numpy as np\n",
        "\n",
        "def step(v):\n",
        "  if v >= 0:\n",
        "    return 1\n",
        "  else:\n",
        "    return 0\n",
        "\n",
        "def perceptron(x,w,b):\n",
        "  v = np.dot(x,w) + b\n",
        "  y = step(v)\n",
        "  return y\n",
        "\n",
        "def NOT_logic(x):\n",
        "    w = -1\n",
        "    b = 0.5\n",
        "    return perceptron(x, w, b)\n",
        "\n",
        "def AND_logic(x):\n",
        "  w = np.array([1,1])\n",
        "  b = -1.5\n",
        "  return perceptron(x,w,b)\n",
        "\n",
        "def OR_logic(x):\n",
        "  w = np.array([1,1])\n",
        "  b = -1\n",
        "  return perceptron(x,w,b)\n",
        "\n",
        "def XOR_logic(x):\n",
        "    y1 = AND_logic(x)\n",
        "    y2 = OR_logic(x)\n",
        "    y3 = NOT_logic(y1)\n",
        "    y4 = np.array([y2, y3])\n",
        "    y5 = AND_logic(y4)\n",
        "    return y5\n",
        "\n",
        "a = np.array([0,0])\n",
        "b = np.array([0,1])\n",
        "c = np.array([1,0])\n",
        "d = np.array([1,1])\n",
        "\n",
        "e = 0\n",
        "f = 1\n",
        "\n",
        "print(\"NOT of 0 is \",NOT_logic(e))\n",
        "print(\"NOT of 1 is \",NOT_logic(f))\n",
        "print(\"\\n\")\n",
        "print(\"AND of 0,0 is \",AND_logic(a))\n",
        "print(\"AND of 0,1 is \",AND_logic(b))\n",
        "print(\"AND of 1,0 is \",AND_logic(c))\n",
        "print(\"AND of 1,1 is \",AND_logic(d))\n",
        "print(\"\\n\")\n",
        "print(\"OR of 0,0 is \",OR_logic(a))\n",
        "print(\"OR of 0,1 is \",OR_logic(b))\n",
        "print(\"OR of 1,0 is \",OR_logic(c))\n",
        "print(\"OR of 1,1 is \",OR_logic(d))\n",
        "print(\"\\n\")\n",
        "print(\"Ex-OR of 0,0 is \",XOR_logic(a))\n",
        "print(\"Ex-OR of 0,1 is \",XOR_logic(b))\n",
        "print(\"Ex-OR of 1,0 is \",XOR_logic(c))\n",
        "print(\"Ex-OR of 1,1 is \",XOR_logic(d))"
      ]
    }
  ]
}