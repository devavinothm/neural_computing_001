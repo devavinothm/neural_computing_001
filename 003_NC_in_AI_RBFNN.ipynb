{
  "nbformat": 4,
  "nbformat_minor": 0,
  "metadata": {
    "colab": {
      "provenance": []
    },
    "kernelspec": {
      "name": "python3",
      "display_name": "Python 3"
    },
    "language_info": {
      "name": "python"
    }
  },
  "cells": [
    {
      "cell_type": "code",
      "execution_count": 10,
      "metadata": {
        "colab": {
          "base_uri": "https://localhost:8080/"
        },
        "id": "SyucQOoloKfh",
        "outputId": "bf56f666-2f5f-4b60-9136-9295aaf29f32"
      },
      "outputs": [
        {
          "output_type": "stream",
          "name": "stdout",
          "text": [
            "[0. 1. 1. 0.]\n",
            "[0 1 1 0]\n",
            "Weights: [ 2.5026503   2.5026503  -1.84134719]\n",
            "Input:[0 0], Predicted: 0.0\n",
            "Input:[0 1], Predicted: 1.0\n",
            "Input:[1 0], Predicted: 1.0\n",
            "Input:[1 1], Predicted: 0.0\n"
          ]
        }
      ],
      "source": [
        "import numpy as np\n",
        "\n",
        "def gaussian_rbf(x, landmark, gamma=1):\n",
        "    return np.exp(-gamma * np.linalg.norm(x - landmark)**2)\n",
        "  \n",
        "def end_to_end(X1, X2, ys, mu1, mu2):\n",
        "    from_1 = [gaussian_rbf(i, mu1) for i in zip(X1, X2)]\n",
        "    from_2 = [gaussian_rbf(i, mu2) for i in zip(X1, X2)]\n",
        "    a = []\n",
        "\n",
        "    for i, j in zip(from_1, from_2):\n",
        "        temp = []\n",
        "        temp.append(i)\n",
        "        temp.append(j)\n",
        "        temp.append(1)\n",
        "        a.append(temp)\n",
        "    \n",
        "    a = np.array(a)\n",
        "    w = np.linalg.inv(a.T.dot(a)).dot(a.T).dot(ys)\n",
        "    print(np.round(a.dot(w)))\n",
        "    print(ys)\n",
        "    print(f\"Weights: {w}\")\n",
        "    return w\n",
        "\n",
        "def predict_matrix(point, weights):\n",
        "    gaussian_rbf_0 = gaussian_rbf(np.array(point), mu1)\n",
        "    gaussian_rbf_1 = gaussian_rbf(np.array(point), mu2)\n",
        "    a = np.array([gaussian_rbf_0, gaussian_rbf_1, 1])\n",
        "    return np.round(A.dot(weights))\n",
        "\n",
        "x1 = np.array([0, 0, 1, 1])\n",
        "x2 = np.array([0, 1, 0, 1])\n",
        "ys = np.array([0, 1, 1, 0])\n",
        "\n",
        "# centers\n",
        "mu1 = np.array([0, 1])\n",
        "mu2 = np.array([1, 0])\n",
        "\n",
        "w = end_to_end(x1, x2, ys, mu1, mu2)\n",
        "\n",
        "# testing\n",
        "\n",
        "print(f\"Input:{np.array([0, 0])}, Predicted: {predict_matrix(np.array([0, 0]), w)}\")\n",
        "print(f\"Input:{np.array([0, 1])}, Predicted: {predict_matrix(np.array([0, 1]), w)}\")\n",
        "print(f\"Input:{np.array([1, 0])}, Predicted: {predict_matrix(np.array([1, 0]), w)}\")\n",
        "print(f\"Input:{np.array([1, 1])}, Predicted: {predict_matrix(np.array([1, 1]), w)}\")"
      ]
    }
  ]
}