{
  "nbformat": 4,
  "nbformat_minor": 0,
  "metadata": {
    "colab": {
      "provenance": [],
      "collapsed_sections": []
    },
    "kernelspec": {
      "name": "python3",
      "display_name": "Python 3"
    },
    "language_info": {
      "name": "python"
    }
  },
  "cells": [
    {
      "cell_type": "code",
      "execution_count": 16,
      "metadata": {
        "colab": {
          "base_uri": "https://localhost:8080/"
        },
        "id": "kexbBoJscm4h",
        "outputId": "5014946d-db29-47ae-95b1-6d7b03a1cc75"
      },
      "outputs": [
        {
          "output_type": "stream",
          "name": "stdout",
          "text": [
            "Weights: [[-0.0625]\n",
            " [ 0.0625]\n",
            " [ 0.0625]\n",
            " [-0.0625]]\n",
            "\n",
            "\n",
            "Output [[-1.  1.  1. -1.]]\n"
          ]
        }
      ],
      "source": [
        "import numpy as np\n",
        "\n",
        "input = np.array([[-1,-1],[-1,1],[1,-1],[1,1]])\n",
        "support_vector = np.array([[-1,-1,1,1],[-1,1,-1,1]])\n",
        "bias = np.array([[-0.5],[0.5],[0.5],[-0.5]])\n",
        "a = np.dot(input,support_vector)\n",
        "b = a+1\n",
        "c = np.square(b)\n",
        "d = np.linalg.inv(c)\n",
        "weight = np.dot(d,bias)\n",
        "weightT = np.transpose(weight)\n",
        "e = np.dot(weightT,c)\n",
        "f = np.transpose(bias)\n",
        "output = e + f\n",
        "print(\"Weights:\",weight)\n",
        "print(\"\\n\")\n",
        "print(\"Output\",output)"
      ]
    }
  ]
}